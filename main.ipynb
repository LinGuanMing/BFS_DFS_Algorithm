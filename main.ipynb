{
  "nbformat": 4,
  "nbformat_minor": 0,
  "metadata": {
    "colab": {
      "name": "main.ipynb",
      "provenance": [],
      "collapsed_sections": [],
      "toc_visible": true,
      "authorship_tag": "ABX9TyNe/y47YFfKD0Bv8HFIuY3Z",
      "include_colab_link": true
    },
    "kernelspec": {
      "display_name": "Python 3",
      "name": "python3"
    }
  },
  "cells": [
    {
      "cell_type": "markdown",
      "metadata": {
        "id": "view-in-github",
        "colab_type": "text"
      },
      "source": [
        "<a href=\"https://colab.research.google.com/github/LinGuanMing/BFS_DFS_Algorithm/blob/main/main.ipynb\" target=\"_parent\"><img src=\"https://colab.research.google.com/assets/colab-badge.svg\" alt=\"Open In Colab\"/></a>"
      ]
    },
    {
      "cell_type": "markdown",
      "metadata": {
        "id": "MKCV1LVnCE9V"
      },
      "source": [
        "# 人工智慧 作業二\n",
        "\n",
        "---\n",
        "\n"
      ]
    },
    {
      "cell_type": "markdown",
      "metadata": {
        "id": "_gvKzjV-UDxQ"
      },
      "source": [
        "# 加載程式所需的函示庫"
      ]
    },
    {
      "cell_type": "code",
      "metadata": {
        "id": "aJbhw0SlsBMU"
      },
      "source": [
        "import collections\n",
        "import numpy as np\n",
        "from itertools import permutations"
      ],
      "execution_count": 1,
      "outputs": []
    },
    {
      "cell_type": "markdown",
      "metadata": {
        "id": "7hZldow4AkZ0"
      },
      "source": [
        "![Number Exercise.gif](data:image/gif;base64,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)"
      ]
    },
    {
      "cell_type": "markdown",
      "metadata": {
        "id": "jkuAgi9qUk4f"
      },
      "source": [
        "# 將圖中所用到的數值存入容器"
      ]
    },
    {
      "cell_type": "code",
      "metadata": {
        "id": "FVvEXbVisDaL"
      },
      "source": [
        "nodeValues = {}\n",
        "initNodesSum = {\n",
        "    'ACD': 19, 'ADE': 18,\n",
        "    'BCF': 11, 'DEG': 16,\n",
        "    'FHI': 17, 'GHJ': 22\n",
        "    }\n",
        "triangleNodes = {\n",
        "    'ACD': ['BCF', 'ADE', 'DEG'],\n",
        "    'ADE': ['DEG'],\n",
        "    'BCF': ['FHI'],\n",
        "    'DEG': ['GHJ'],\n",
        "    'FHI': ['GHJ'],\n",
        "    'GHJ': ['FHI']\n",
        "    }\n",
        "NextNodes = {\n",
        "    'A': ['B', 'C', 'D', 'E'],\n",
        "    'B': ['C', 'F', 'I'],\n",
        "    'C': ['B', 'D', 'F'],\n",
        "    'D': ['C', 'E', 'G'],\n",
        "    'E': ['D', 'G', 'J'],\n",
        "    'F': ['H', 'I'],\n",
        "    'G': ['H', 'J'],\n",
        "    'H': ['I', 'J'],\n",
        "    'I': ['J'],\n",
        "    'J': []\n",
        "    }"
      ],
      "execution_count": 2,
      "outputs": []
    },
    {
      "cell_type": "markdown",
      "metadata": {
        "id": "fS7nPGr0VA6S"
      },
      "source": [
        "# 將圖中三角形周圍節點 A-J 以 1-10 數字填滿\n",
        "# 並滿足三角形周圍三個節點相加等於三角形中的數字\n",
        "# 例如:A+C+D=19"
      ]
    },
    {
      "cell_type": "markdown",
      "metadata": {
        "id": "sVL7ngKpHLM1"
      },
      "source": [
        "以窮舉法計算出三角形周圍節點數字\n",
        "\n",
        "避免浪費計算時間，遇到相鄰數字相同則跳過\n",
        "\n",
        "並排除計算三角形周圍節點相加不等於欲求總和的組合\n",
        "\n",
        "例如:A+C+D=19 非19則跳過不處理"
      ]
    },
    {
      "cell_type": "code",
      "metadata": {
        "id": "PoBJW1otsHaH"
      },
      "source": [
        "def get_random_dict():\n",
        "    for kA in range(1, 11):\n",
        "        for kB in range(1, 11):\n",
        "            if kA == kB:\n",
        "                continue\n",
        "            for kC in range(1, 11):\n",
        "                if kC == kA or kC == kB:\n",
        "                    continue\n",
        "                for kD in range(1, 11):\n",
        "                    if kD == kC or kD == kB or kD == kA or kA + kC + kD != initNodesSum.get('ACD'):\n",
        "                        continue\n",
        "                    for kE in range(1, 11):\n",
        "                        if kE == kD or kE == kC or kE == kB or kE == kA or kA + kD + kE != initNodesSum.get('ADE'):\n",
        "                            continue\n",
        "                        for kF in range(1, 11):\n",
        "                            if kF == kE or kF == kD or kF == kC or kF == kB or kF == kA or kB + kC + kF != initNodesSum.get('BCF'):\n",
        "                                continue\n",
        "                            for kG in range(1, 11):\n",
        "                                if kG == kF or kG == kE or kG == kD or kG == kC or kG == kB or kG == kA or kD + kE + kG != initNodesSum.get('DEG'):\n",
        "                                    continue\n",
        "                                for kH in range(1, 11):\n",
        "                                    if kH == kG or kH == kF or kH == kE or kH == kD or kH == kC or kH == kB or kH == kA:\n",
        "                                        continue\n",
        "                                    for kI in range(1, 11):\n",
        "                                        if kI == kH or kI == kG or kI == kF or kI == kE or kI == kD or kI == kC or kI == kB or kI == kA or kF + kH + kI != initNodesSum.get('FHI'):\n",
        "                                            continue\n",
        "                                        for kJ in range(1, 11):\n",
        "                                            if kJ == kI or kJ == kH or kJ == kG or kJ == kF or kJ == kE or kJ == kD or kJ == kC or kJ == kB or kJ == kA or kG + kH + kJ != initNodesSum.get('GHJ'):\n",
        "                                                continue\n",
        "                                            if kA + kC + kD == initNodesSum.get('ACD') and \\\n",
        "                                                kA + kD + kE == initNodesSum.get('ADE') and \\\n",
        "                                                kB + kC + kF == initNodesSum.get('BCF') and \\\n",
        "                                                kD + kE + kG == initNodesSum.get('DEG') and \\\n",
        "                                                kF + kH + kI == initNodesSum.get('FHI') and \\\n",
        "                                                kG + kH + kJ == initNodesSum.get('GHJ'):\n",
        "                                                nodeValues['A'] = kA\n",
        "                                                nodeValues['B'] = kB\n",
        "                                                nodeValues['C'] = kC\n",
        "                                                nodeValues['D'] = kD\n",
        "                                                nodeValues['E'] = kE\n",
        "                                                nodeValues['F'] = kF\n",
        "                                                nodeValues['G'] = kG\n",
        "                                                nodeValues['H'] = kH\n",
        "                                                nodeValues['I'] = kI\n",
        "                                                nodeValues['J'] = kJ\n",
        "                                                return"
      ],
      "execution_count": 3,
      "outputs": []
    },
    {
      "cell_type": "markdown",
      "metadata": {
        "id": "98vJsmVl9Txj"
      },
      "source": [
        "# 搭配隊列結構容器執行BFS及DFS演算法"
      ]
    },
    {
      "cell_type": "code",
      "metadata": {
        "id": "iNiKSxJOsT6k"
      },
      "source": [
        "def getflow(root, method):\n",
        "    visited = set() # 暫存所有訪問過的節點紀錄\n",
        "    queue = collections.deque([root]) # 將起始節點加入隊列結構容器\n",
        "    flow = collections.deque() # 紀錄訪問流程\n",
        "\n",
        "    visited.add(root)\n",
        "    while queue:\n",
        "        triangle = queue.popleft() # 從隊列頭部(左端)取出進行後續演算法處理\n",
        "        flow.append(triangle)\n",
        "        IsFirst = True # DFS用於紀錄節點處理相鄰之集合\n",
        "        for next_triangle in triangleNodes[triangle]: # 處理節點所有相鄰之集合\n",
        "            if next_triangle not in visited: # 訪問過的節點跳過不處理\n",
        "                if method == 'BFS':\n",
        "                    queue.append(next_triangle)\n",
        "                elif method == 'DFS':\n",
        "                    if IsFirst:\n",
        "                        queue.appendleft(next_triangle) # 加入到隊列左端，走到盡頭時可往返到上一層\n",
        "                    else:\n",
        "                        queue.insert(1, next_triangle) # 加入到處理中的隊列左端下一個節點\n",
        "                IsFirst = False\n",
        "                visited.add(next_triangle)\n",
        "    return flow"
      ],
      "execution_count": 4,
      "outputs": []
    },
    {
      "cell_type": "markdown",
      "metadata": {
        "id": "N7oJK93HM5RI"
      },
      "source": [
        "# 使用貪婪優先搜尋法找出最短路徑"
      ]
    },
    {
      "cell_type": "code",
      "metadata": {
        "id": "7M01Lfz-M_7_"
      },
      "source": [
        "def getShortestPath(startNode, endNode: list):\n",
        "    visited = set()\n",
        "    flow = collections.deque()\n",
        "    flow.append(startNode)\n",
        "    while True:\n",
        "        neighborDist = 10\n",
        "        visited.add(startNode)\n",
        "        for nodes in NextNodes[startNode]:\n",
        "            if nodes not in visited:\n",
        "                if abs(nodeValues['A'] - nodeValues[nodes]) < neighborDist:\n",
        "                    neighborDist = abs(nodeValues['A'] - nodeValues[nodes])\n",
        "                    nextNode = nodes\n",
        "        startNode = nextNode\n",
        "        flow.append(nextNode)\n",
        "        if nextNode in endNode:\n",
        "            break\n",
        "    return list(flow)"
      ],
      "execution_count": 5,
      "outputs": []
    },
    {
      "cell_type": "markdown",
      "metadata": {
        "id": "Bm0HK-TC9psy"
      },
      "source": [
        "# 主程式開始"
      ]
    },
    {
      "cell_type": "code",
      "metadata": {
        "id": "yQ4rj99Cr-QZ",
        "colab": {
          "base_uri": "https://localhost:8080/"
        },
        "outputId": "d654ef33-a2a1-40d3-fd82-0dbf5d16983a"
      },
      "source": [
        "if __name__ == '__main__':\n",
        "    get_random_dict()\n",
        "    print('Nodes value:', end=' ')\n",
        "    IsFirst = True\n",
        "    for val in nodeValues:\n",
        "        if IsFirst:\n",
        "            IsFirst = False\n",
        "            print(val + ': ' + str(nodeValues.get(val)), end='')\n",
        "        else:\n",
        "            print(', ' + val + ': ' + str(nodeValues.get(val)), end='')\n",
        "    print()\n",
        "    print()\n",
        "    \n",
        "    BFSFlow = getflow('ACD', 'BFS')\n",
        "    print('BFS Path:', end=' ')\n",
        "    for path in BFSFlow:\n",
        "        if path == BFSFlow[-1]:\n",
        "            print(path)\n",
        "        else:\n",
        "            print(path, '->', end=' ')\n",
        "    print()\n",
        "\n",
        "    DFSFlow = getflow('ACD', 'DFS')\n",
        "    print('DFS Path:', end=' ')\n",
        "    for path in DFSFlow:\n",
        "        if path == DFSFlow[-1]:\n",
        "            print(path)\n",
        "        else:\n",
        "            print(path, '->', end=' ')\n",
        "    print()\n",
        "\n",
        "    shortestPath = getShortestPath('A', ['I', 'J'])\n",
        "    print('Shortest Path: ', end=' ')\n",
        "    for path in shortestPath:\n",
        "        if path == shortestPath[-1]:\n",
        "            print(path)\n",
        "        else:\n",
        "            print(path, '->', end=' ')"
      ],
      "execution_count": 6,
      "outputs": [
        {
          "output_type": "stream",
          "text": [
            "Nodes value: A: 9, B: 6, C: 2, D: 8, E: 1, F: 3, G: 7, H: 10, I: 4, J: 5\n",
            "\n",
            "BFS Path: ACD -> BCF -> ADE -> DEG -> FHI -> GHJ\n",
            "\n",
            "DFS Path: ACD -> BCF -> FHI -> GHJ -> DEG -> ADE\n",
            "\n",
            "Shortest Path:  A -> D -> G -> H -> J\n"
          ],
          "name": "stdout"
        }
      ]
    }
  ]
}